{
 "cells": [
  {
   "cell_type": "markdown",
   "id": "1ce6c517",
   "metadata": {},
   "source": [
    "네이버 번역 API를 사용한 방식"
   ]
  },
  {
   "cell_type": "code",
   "execution_count": 22,
   "id": "8d53081a",
   "metadata": {},
   "outputs": [],
   "source": [
    "import requests\n",
    "\n",
    "def get_translate_e2k(text):\n",
    "    client_id = \"k038Ur522FOy97b7bMCf\" # <-- client_id 기입\n",
    "    client_secret = \"CIZzoba2C3\" # <-- client_secret 기입\n",
    "\n",
    "    data = {'text' : text,\n",
    "            'source' : 'en',\n",
    "            'target': 'ko'}\n",
    "\n",
    "    url = \"https://openapi.naver.com/v1/papago/n2mt\"\n",
    "\n",
    "    header = {\"X-Naver-Client-Id\":client_id,\n",
    "              \"X-Naver-Client-Secret\":client_secret}\n",
    "\n",
    "    response = requests.post(url, headers=header, data=data)\n",
    "    rescode = response.status_code\n",
    "\n",
    "    if(rescode==200):\n",
    "        send_data = response.json()\n",
    "        trans_data = (send_data['message']['result']['translatedText'])\n",
    "        return trans_data\n",
    "    else:\n",
    "        print(\"Error Code:\" , rescode)\n",
    "        \n",
    "def get_translate_k2e(text):\n",
    "    client_id = \"k038Ur522FOy97b7bMCf\" # <-- client_id 기입\n",
    "    client_secret = \"CIZzoba2C3\" # <-- client_secret 기입\n",
    "\n",
    "    data = {'text' : text,\n",
    "            'source' : 'ko',\n",
    "            'target': 'en'}\n",
    "\n",
    "    url = \"https://openapi.naver.com/v1/papago/n2mt\"\n",
    "\n",
    "    header = {\"X-Naver-Client-Id\":client_id,\n",
    "              \"X-Naver-Client-Secret\":client_secret}\n",
    "\n",
    "    response = requests.post(url, headers=header, data=data)\n",
    "    rescode = response.status_code\n",
    "\n",
    "    if(rescode==200):\n",
    "        send_data = response.json()\n",
    "        trans_data = (send_data['message']['result']['translatedText'])\n",
    "        return trans_data\n",
    "    else:\n",
    "        print(\"Error Code:\" , rescode)"
   ]
  },
  {
   "cell_type": "code",
   "execution_count": 47,
   "id": "141eb461",
   "metadata": {},
   "outputs": [
    {
     "name": "stdout",
     "output_type": "stream",
     "text": [
      "My throat hurts. Where in the hospital? I have a headache.\n",
      "목이 아파요. 병원 어디에요? 두통이 있습니다.\n"
     ]
    }
   ],
   "source": [
    "text2='나 목 아프다 병원 어디'\n",
    "\n",
    "tes2= get_translate_k2e(text2)\n",
    "print(tes2)\n",
    "\n",
    "text2=get_translate_e2k(tes2)\n",
    "print(text2)"
   ]
  },
  {
   "cell_type": "code",
   "execution_count": 49,
   "id": "ca8f5f33",
   "metadata": {},
   "outputs": [
    {
     "ename": "AttributeError",
     "evalue": "'gTTS' object has no attribute 'load'",
     "output_type": "error",
     "traceback": [
      "\u001b[1;31m---------------------------------------------------------------------------\u001b[0m",
      "\u001b[1;31mAttributeError\u001b[0m                            Traceback (most recent call last)",
      "\u001b[1;32m~\\AppData\\Local\\Temp/ipykernel_3652/64116642.py\u001b[0m in \u001b[0;36m<module>\u001b[1;34m\u001b[0m\n\u001b[0;32m      6\u001b[0m     lang='ko', slow=False)\n\u001b[0;32m      7\u001b[0m \u001b[0mtts\u001b[0m\u001b[1;33m.\u001b[0m\u001b[0msave\u001b[0m\u001b[1;33m(\u001b[0m\u001b[1;34m'ex_ko.mp3'\u001b[0m\u001b[1;33m)\u001b[0m\u001b[1;33m\u001b[0m\u001b[1;33m\u001b[0m\u001b[0m\n\u001b[1;32m----> 8\u001b[1;33m \u001b[0mtts\u001b[0m\u001b[1;33m.\u001b[0m\u001b[0mload\u001b[0m\u001b[1;33m(\u001b[0m\u001b[1;34m'ex_ko.mp3'\u001b[0m\u001b[1;33m)\u001b[0m\u001b[1;33m\u001b[0m\u001b[1;33m\u001b[0m\u001b[0m\n\u001b[0m",
      "\u001b[1;31mAttributeError\u001b[0m: 'gTTS' object has no attribute 'load'"
     ]
    }
   ],
   "source": [
    "from gtts import gTTS\n",
    "__author__ = 'info-lab'\n",
    "\n",
    "tts = gTTS(\n",
    "    text=text2,\n",
    "    lang='ko', slow=False)\n",
    "tts.save('ex_ko.mp3')"
   ]
  }
 ],
 "metadata": {
  "kernelspec": {
   "display_name": "Python 3 (ipykernel)",
   "language": "python",
   "name": "python3"
  },
  "language_info": {
   "codemirror_mode": {
    "name": "ipython",
    "version": 3
   },
   "file_extension": ".py",
   "mimetype": "text/x-python",
   "name": "python",
   "nbconvert_exporter": "python",
   "pygments_lexer": "ipython3",
   "version": "3.9.7"
  }
 },
 "nbformat": 4,
 "nbformat_minor": 5
}
