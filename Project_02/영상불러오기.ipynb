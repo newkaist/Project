{
 "cells": [
  {
   "cell_type": "code",
   "execution_count": null,
   "id": "c872964b",
   "metadata": {},
   "outputs": [],
   "source": [
    "import cv2\n",
    "!pip uninstall opencv-python\n",
    "!pip install opencv-python\n",
    "!pip uninstall OpenCV-python-headless"
   ]
  },
  {
   "cell_type": "code",
   "execution_count": null,
   "id": "fe31b6b3",
   "metadata": {},
   "outputs": [],
   "source": [
    "movie_file = './project/Project_02/data/2022-03-17 02-24-52.mp4'"
   ]
  },
  {
   "cell_type": "code",
   "execution_count": null,
   "id": "33f14436",
   "metadata": {},
   "outputs": [],
   "source": [
    "vfile = cv2.VideoCapture(movie_file)\n",
    "\n",
    "if vfile.isOpened():\n",
    "    while True:\n",
    "        vret, img = vfile.read()\n",
    "        if vret:\n",
    "            cv2.imshow(movie_file, img)\n",
    "            cv2.waitKey(25)\n",
    "        else:\n",
    "            break\n",
    "else:\n",
    "    print('파일을 열 수 없습니다.')\n",
    "    \n",
    "vfile.release()\n",
    "cv2.destroyAllWindows()"
   ]
  },
  {
   "cell_type": "code",
   "execution_count": null,
   "id": "671fff96",
   "metadata": {},
   "outputs": [],
   "source": []
  }
 ],
 "metadata": {
  "kernelspec": {
   "display_name": "Python 3 (ipykernel)",
   "language": "python",
   "name": "python3"
  },
  "language_info": {
   "codemirror_mode": {
    "name": "ipython",
    "version": 3
   },
   "file_extension": ".py",
   "mimetype": "text/x-python",
   "name": "python",
   "nbconvert_exporter": "python",
   "pygments_lexer": "ipython3",
   "version": "3.9.7"
  }
 },
 "nbformat": 4,
 "nbformat_minor": 5
}
